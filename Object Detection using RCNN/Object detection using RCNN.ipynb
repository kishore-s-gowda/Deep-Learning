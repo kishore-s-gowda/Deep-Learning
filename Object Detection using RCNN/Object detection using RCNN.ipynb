{
 "cells": [
  {
   "cell_type": "markdown",
   "id": "673c1b1e",
   "metadata": {},
   "source": [
    "### Important libraries"
   ]
  },
  {
   "cell_type": "code",
   "execution_count": 37,
   "id": "ad2bb3fb",
   "metadata": {},
   "outputs": [],
   "source": [
    "import tensorflow as tf\n",
    "from tensorflow.keras.applications import MobileNet\n",
    "from tensorflow.keras.applications.mobilenet import preprocess_input\n",
    "from tensorflow.keras.preprocessing.image import img_to_array\n",
    "from tensorflow.keras.applications import imagenet_utils\n",
    "import imutils\n",
    "from imutils.object_detection import non_max_suppression\n",
    "import pandas as pd\n",
    "import time\n",
    "import cv2\n",
    "import numpy as np"
   ]
  },
  {
   "cell_type": "code",
   "execution_count": 38,
   "id": "c0a17586",
   "metadata": {},
   "outputs": [],
   "source": [
    "def sliding_window(image, step, ws):\n",
    "    for y in range(0, image.shape[0]-ws[1], step):\n",
    "        for x in range(0, image.shape[1]-ws[0], step):\n",
    "            yield(x, y, image[y:y+ws[1], x:x+ws[0]])"
   ]
  },
  {
   "cell_type": "code",
   "execution_count": 39,
   "id": "a0bcfcf8",
   "metadata": {},
   "outputs": [],
   "source": [
    "def image_pyramid(image, scale=1.5, minSize=(224, 224)):\n",
    "    yield image\n",
    "    while True:\n",
    "        w = int(image.shape[1]/scale)\n",
    "        image = imutils.resize(image, width=w)\n",
    "        if image.shape[0] < minSize[1] or image.shape[1] < minSize[0]:\n",
    "            break\n",
    "        yield image"
   ]
  },
  {
   "cell_type": "code",
   "execution_count": 40,
   "id": "f8c4fde5",
   "metadata": {},
   "outputs": [],
   "source": [
    "width = 600\n",
    "pyr_scale = 1.5\n",
    "win_step = 16\n",
    "roi_size = (224, 224)\n",
    "input_size = (224, 224)"
   ]
  },
  {
   "cell_type": "code",
   "execution_count": 41,
   "id": "27815695",
   "metadata": {},
   "outputs": [],
   "source": [
    "model = MobileNet(weights='imagenet', include_top=True)"
   ]
  },
  {
   "cell_type": "markdown",
   "id": "f8a1405f",
   "metadata": {},
   "source": [
    "### Loading the image to be detected"
   ]
  },
  {
   "cell_type": "code",
   "execution_count": 42,
   "id": "7e931c41",
   "metadata": {},
   "outputs": [],
   "source": [
    "original_img = cv2.imread('tiger.jpg')"
   ]
  },
  {
   "cell_type": "markdown",
   "id": "1a1925f3",
   "metadata": {},
   "source": [
    "### Image resizing"
   ]
  },
  {
   "cell_type": "code",
   "execution_count": 49,
   "id": "3344b2a9",
   "metadata": {},
   "outputs": [],
   "source": [
    "original = cv2.imread('tiger.jpg')\n",
    "original = imutils.resize(original, width=width)\n",
    "(H, W) = original.shape[:2]"
   ]
  },
  {
   "cell_type": "markdown",
   "id": "ff396608",
   "metadata": {},
   "source": [
    "### Regions with location"
   ]
  },
  {
   "cell_type": "code",
   "execution_count": 50,
   "id": "22dcf280",
   "metadata": {},
   "outputs": [
    {
     "name": "stdout",
     "output_type": "stream",
     "text": [
      "(774, 600, 3)\n",
      "(516, 400, 3)\n",
      "(343, 266, 3)\n"
     ]
    }
   ],
   "source": [
    "pyramid = image_pyramid(original, scale=pyr_scale, minSize=roi_size)\n",
    "for i in pyramid:\n",
    "    print(i.shape)"
   ]
  },
  {
   "cell_type": "code",
   "execution_count": 51,
   "id": "6bbe770b",
   "metadata": {},
   "outputs": [],
   "source": [
    "rois = []\n",
    "locs = []\n",
    "pyramid = image_pyramid(original, scale=pyr_scale, minSize=roi_size)\n",
    "for image in pyramid:\n",
    "    scale = W/float(image.shape[1])    \n",
    "    for (x,y,roiOrig) in sliding_window(image,win_step,roi_size):\n",
    "        x=float(x*scale)\n",
    "        y=float(y*scale)\n",
    "        w=float(roi_size[0]*scale)\n",
    "        h=float(roi_size[1]*scale)\n",
    "        roi=cv2.resize(roiOrig,input_size)\n",
    "        roi=img_to_array(roi)\n",
    "        roi=preprocess_input(roi)\n",
    "        \n",
    "        rois.append(roi)\n",
    "        locs.append([x,y,x+w,y+h])        "
   ]
  },
  {
   "cell_type": "markdown",
   "id": "e88f1782",
   "metadata": {},
   "source": [
    "### Probability of image in regions"
   ]
  },
  {
   "cell_type": "code",
   "execution_count": 52,
   "id": "8b8b1eda",
   "metadata": {},
   "outputs": [],
   "source": [
    "rois = np.array(rois, dtype='float32')\n",
    "preds = model.predict(rois)\n",
    "preds=imagenet_utils.decode_predictions(preds,top=1)"
   ]
  },
  {
   "cell_type": "markdown",
   "id": "9aedf17d",
   "metadata": {},
   "source": [
    "### Non-Maximum-Supression"
   ]
  },
  {
   "cell_type": "code",
   "execution_count": 53,
   "id": "32adbd0b",
   "metadata": {},
   "outputs": [],
   "source": [
    "df=pd.DataFrame(columns=['lab','prob','bb'])\n",
    "for index,i in enumerate(preds):\n",
    "    if float(i[0][2])>0.9:\n",
    "        df=df.append({'lab':i[0][1],'prob':i[0][2],\n",
    "                      'bb':locs[index]},ignore_index=True)\n",
    "       \n",
    "       \n",
    "boxes1=[]\n",
    "obj=[]\n",
    "for i in df['lab'].unique():\n",
    "    nms=df[df['lab']==i]\n",
    "    boxes = non_max_suppression(np.array(nms['bb'].tolist()), nms['prob'].tolist())\n",
    "    boxes1.append(boxes)\n",
    "    obj.append(i)"
   ]
  },
  {
   "cell_type": "markdown",
   "id": "f9b949b5",
   "metadata": {},
   "source": [
    "### Object Detection with bounding box"
   ]
  },
  {
   "cell_type": "code",
   "execution_count": 55,
   "id": "82fde356",
   "metadata": {},
   "outputs": [],
   "source": [
    "clone = original.copy()\n",
    "for i in range(len(boxes1)):\n",
    "    bb=boxes1[i][0]\n",
    "    cv2.rectangle(clone, (bb[0], bb[1]), (bb[2], bb[3]),(0, 255, 0), 2)\n",
    "    y = bb[1] - 10 if bb[1] - 10 > 10 else bb[1] + 10\n",
    "    cv2.putText(clone, obj[i], (bb[0], y),cv2.FONT_HERSHEY_SIMPLEX, 0.45, (0, 255, 0), 2)\n",
    "    cv2.imshow(\"Final Objects\", clone)\n",
    "    cv2.waitKey(0);cv2.destroyAllWindows()\n"
   ]
  },
  {
   "cell_type": "code",
   "execution_count": null,
   "id": "a5dcbb0f",
   "metadata": {},
   "outputs": [],
   "source": []
  }
 ],
 "metadata": {
  "kernelspec": {
   "display_name": "Python 3",
   "language": "python",
   "name": "python3"
  },
  "language_info": {
   "codemirror_mode": {
    "name": "ipython",
    "version": 3
   },
   "file_extension": ".py",
   "mimetype": "text/x-python",
   "name": "python",
   "nbconvert_exporter": "python",
   "pygments_lexer": "ipython3",
   "version": "3.7.10"
  }
 },
 "nbformat": 4,
 "nbformat_minor": 5
}
